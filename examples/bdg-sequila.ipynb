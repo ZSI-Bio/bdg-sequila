{
 "cells": [
  {
   "cell_type": "markdown",
   "metadata": {},
   "source": [
    "import os\n",
    "os.getcwd()\n",
    "import sys\n",
    "sys.path.append(\"/Users/marek/.virtualenvs/bdg-sequila/lib/python3.7/site-packages\")\n",
    "sys.path.append(\"/Users/marek/git/forks/bdg-sequila/python\")"
   ]
  },
  {
   "cell_type": "code",
   "execution_count": 10,
   "metadata": {},
   "outputs": [],
   "source": [
    "import findspark\n",
    "from pyspark.sql import SparkSession, DataFrame, SQLContext\n",
    "findspark.init()"
   ]
  },
  {
   "cell_type": "code",
   "execution_count": null,
   "metadata": {},
   "outputs": [],
   "source": [
    "from pyspark.sql import SparkSession\n",
    "spark = SparkSession \\\n",
    ".builder \\\n",
    ".config('spark.ui.enabled','false') \\\n",
    ".config('spark.driver.memory','2g') \\\n",
    ".config('spark.driver.bindAddress', 'localhost')  \\\n",
    ".config('spark.driver.host', 'localhost') \\\n",
    ".appName('SeQuiLa') \\\n",
    ".config('spark.jars','/Users/marek/git/forks/bdg-sequila/target/scala-2.11/bdg-sequila-assembly-0.5.6-spark-2.4.3.jar')  \\\n",
    ".getOrCreate()"
   ]
  },
  {
   "cell_type": "code",
   "execution_count": null,
   "metadata": {},
   "outputs": [],
   "source": [
    "#config paths\n",
    "bamPath = '/Users/marek/git/forks/bdg-sequila/src/test/resources/NA12878.slice.bam'\n",
    "vcfPath = '/Users/marek/git/forks/bdg-sequila/src/test/resources/vcf/test.vcf'"
   ]
  },
  {
   "cell_type": "code",
   "execution_count": 12,
   "metadata": {},
   "outputs": [],
   "source": [
    "#register sequila.py\n",
    "from sequila import SequilaSession\n",
    "ss = SequilaSession(spark)"
   ]
  },
  {
   "cell_type": "code",
   "execution_count": 13,
   "metadata": {},
   "outputs": [
    {
     "data": {
      "text/plain": [
       "DataFrame[]"
      ]
     },
     "execution_count": 13,
     "metadata": {},
     "output_type": "execute_result"
    }
   ],
   "source": [
    "# create table\n",
    "tableNameBAM =  'test'\n",
    "ss.sql(f'CREATE TABLE {tableNameBAM} \\\n",
    "USING org.biodatageeks.datasources.BAM.BAMDataSource \\\n",
    "OPTIONS(path \"{bamPath}\")')"
   ]
  },
  {
   "cell_type": "code",
   "execution_count": 14,
   "metadata": {},
   "outputs": [
    {
     "name": "stdout",
     "output_type": "stream",
     "text": [
      "+--------+----------+-----+---+-----+----+--------------------+--------------------+-----+----------+---------+\n",
      "|sampleId|contigName|start|end|cigar|mapq|               baseq|            sequence|flags|materefind|SAMRecord|\n",
      "+--------+----------+-----+---+-----+----+--------------------+--------------------+-----+----------+---------+\n",
      "| NA12878|      chr1|   34|109|  76M|   2|ACCCADEFFECEFGGFD...|CCCTAACCCTAACCCTA...|   99|         1|     null|\n",
      "+--------+----------+-----+---+-----+----+--------------------+--------------------+-----+----------+---------+\n",
      "\n"
     ]
    }
   ],
   "source": [
    "# query table\n",
    "ss.sql(f\"SELECT * FROM {tableNameBAM} LIMIT 1\").show()"
   ]
  },
  {
   "cell_type": "code",
   "execution_count": 15,
   "metadata": {},
   "outputs": [
    {
     "name": "stdout",
     "output_type": "stream",
     "text": [
      "+--------+---------+-----------+\n",
      "|database|tableName|isTemporary|\n",
      "+--------+---------+-----------+\n",
      "| default|     test|      false|\n",
      "+--------+---------+-----------+\n",
      "\n",
      "+--------+----------+-----+---+-----+----+--------------------+--------------------+-----+----------+---------+\n",
      "|sampleId|contigName|start|end|cigar|mapq|               baseq|            sequence|flags|materefind|SAMRecord|\n",
      "+--------+----------+-----+---+-----+----+--------------------+--------------------+-----+----------+---------+\n",
      "| NA12878|      chr1|   34|109|  76M|   2|ACCCADEFFECEFGGFD...|CCCTAACCCTAACCCTA...|   99|         1|     null|\n",
      "+--------+----------+-----+---+-----+----+--------------------+--------------------+-----+----------+---------+\n",
      "\n"
     ]
    }
   ],
   "source": [
    "ss.sql(\"show tables\").show()\n",
    "ss.sql(f\"SELECT * FROM {tableNameBAM} LIMIT 1\").show()"
   ]
  },
  {
   "cell_type": "code",
   "execution_count": 16,
   "metadata": {},
   "outputs": [
    {
     "name": "stdout",
     "output_type": "stream",
     "text": [
      "+----------+-----+---+--------+\n",
      "|contigName|start|end|coverage|\n",
      "+----------+-----+---+--------+\n",
      "|      chr1|   34| 34|       1|\n",
      "|      chr1|   35| 35|       2|\n",
      "|      chr1|   36| 37|       3|\n",
      "|      chr1|   38| 40|       4|\n",
      "|      chr1|   41| 49|       5|\n",
      "+----------+-----+---+--------+\n",
      "\n"
     ]
    }
   ],
   "source": [
    "ss.sql(f\"SELECT * FROM bdg_coverage('{tableNameBAM}','NA12878', 'blocks') LIMIT 5\").show()"
   ]
  },
  {
   "cell_type": "code",
   "execution_count": 17,
   "metadata": {},
   "outputs": [
    {
     "data": {
      "text/plain": [
       "DataFrame[]"
      ]
     },
     "execution_count": 17,
     "metadata": {},
     "output_type": "execute_result"
    }
   ],
   "source": [
    "tableNameVCF =  'test_vcf'\n",
    "ss.sql(f'CREATE TABLE {tableNameVCF} \\\n",
    "USING org.biodatageeks.datasources.VCF.VCFDataSource \\\n",
    "OPTIONS(path \"{vcfPath}\")')"
   ]
  },
  {
   "cell_type": "code",
   "execution_count": 18,
   "metadata": {},
   "outputs": [
    {
     "name": "stdout",
     "output_type": "stream",
     "text": [
      "+------+-----+-----+-----+---------+---+---+----+------+--------------------+---+---+---+-----+---------+\n",
      "|contig|  pos|start| stop|       id|ref|alt|qual|filter|                info| gt| gq| dp|   hq|sample_id|\n",
      "+------+-----+-----+-----+---------+---+---+----+------+--------------------+---+---+---+-----+---------+\n",
      "|    20|14370|14369|14370|rs6054257|  G|  A|  29|  PASS|[ns -> 3, db -> D...|0|0| 48|  1|51,51|  NA00001|\n",
      "|    20|14370|14369|14370|rs6054257|  G|  A|  29|  PASS|[ns -> 3, db -> D...|1|0| 48|  8|51,51|  NA00002|\n",
      "|    20|14370|14369|14370|rs6054257|  G|  A|  29|  PASS|[ns -> 3, db -> D...|1/1| 43|  5|  .,.|  NA00003|\n",
      "|    20|17330|17329|17330|        .|  T|  A|   3|   q10|[ns -> 3, dp -> 1...|0|0| 49|  3|58,50|  NA00001|\n",
      "|    20|17330|17329|17330|        .|  T|  A|   3|   q10|[ns -> 3, dp -> 1...|0|1|  3|  5| 65,3|  NA00002|\n",
      "+------+-----+-----+-----+---------+---+---+----+------+--------------------+---+---+---+-----+---------+\n",
      "\n"
     ]
    }
   ],
   "source": [
    "ss.sql(f\"SELECT * FROM {tableNameVCF} LIMIT 5\").show()"
   ]
  },
  {
   "cell_type": "code",
   "execution_count": 8,
   "metadata": {},
   "outputs": [],
   "source": [
    "ss.stop()"
   ]
  }
 ],
 "metadata": {
  "kernelspec": {
   "display_name": "bdg-sequila",
   "language": "python",
   "name": "bdg-sequila"
  },
  "language_info": {
   "codemirror_mode": {
    "name": "ipython",
    "version": 3
   },
   "file_extension": ".py",
   "mimetype": "text/x-python",
   "name": "python",
   "nbconvert_exporter": "python",
   "pygments_lexer": "ipython3",
   "version": "3.6.8"
  }
 },
 "nbformat": 4,
 "nbformat_minor": 2
}