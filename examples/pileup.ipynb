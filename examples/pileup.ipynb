{
 "cells": [
  {
   "cell_type": "code",
   "execution_count": 1,
   "outputs": [],
   "source": [
    "import findspark\n",
    "import os\n",
    "import sys\n",
    "\n",
    "base_path = os.path.dirname(os.getcwd())\n",
    "target_path = \"target/scala-2.11\"\n",
    "jar_name = \"bdg-sequila-assembly-0.6.0-spark-2.4.3.jar\"\n",
    "jar_path = f\"{base_path}/{target_path}/{jar_name}\"\n",
    "sys.path.append(f\"{base_path}/python\")\n",
    "os.environ['PYSPARK_SUBMIT_ARGS'] = f\"--jars {jar_path} pyspark-shell\"\n",
    "\n",
    "findspark.init()"
   ],
   "metadata": {
    "collapsed": false,
    "pycharm": {
     "name": "#%%\n"
    }
   }
  },
  {
   "cell_type": "code",
   "execution_count": 2,
   "outputs": [],
   "source": [
    "app_name = \"pileup_base\"\n",
    "from pyspark.sql import SparkSession\n",
    "spark = SparkSession \\\n",
    ".builder \\\n",
    ".appName(f'{app_name}') \\\n",
    ".getOrCreate()"
   ],
   "metadata": {
    "collapsed": false,
    "pycharm": {
     "name": "#%%\n"
    }
   }
  },
  {
   "cell_type": "code",
   "execution_count": 3,
   "outputs": [],
   "source": [
    "bam_path = f'{base_path}/src/test/resources/multichrom/mdbam/NA12878.multichrom.md.bam'\n",
    "ref_path=f'{base_path}/src/test/resources/reference/Homo_sapiens_assembly18_chr1_chrM.small.fasta'\n",
    "sample_id= 'NA12878'\n",
    "table_name = \"reads\""
   ],
   "metadata": {
    "collapsed": false,
    "pycharm": {
     "name": "#%%\n"
    }
   }
  },
  {
   "cell_type": "code",
   "execution_count": 4,
   "outputs": [
    {
     "data": {
      "text/plain": "DataFrame[]"
     },
     "execution_count": 4,
     "metadata": {},
     "output_type": "execute_result"
    }
   ],
   "source": [
    "from sequila import SequilaSession\n",
    "ss = SequilaSession(spark)\n",
    "\n",
    "ss.sql(f'''CREATE TABLE IF NOT EXISTS {table_name} USING org.biodatageeks.sequila.datasources.BAM.BAMDataSource OPTIONS(path \"{bam_path}\")''')"
   ],
   "metadata": {
    "collapsed": false,
    "pycharm": {
     "name": "#%%\n"
    }
   }
  },
  {
   "cell_type": "code",
   "execution_count": 5,
   "outputs": [],
   "source": [
    "# ss.sql(f\"DROP TABLE {table_name}\")"
   ],
   "metadata": {
    "collapsed": false,
    "pycharm": {
     "name": "#%%\n"
    }
   }
  },
  {
   "cell_type": "code",
   "execution_count": 6,
   "outputs": [
    {
     "name": "stdout",
     "output_type": "stream",
     "text": [
      "+------+---------+-------+------------------+--------+--------+-----------+---------+--------------------+\n",
      "|contig|pos_start|pos_end|               ref|coverage|countRef|countNonRef|     alts|               quals|\n",
      "+------+---------+-------+------------------+--------+--------+-----------+---------+--------------------+\n",
      "|     1|       34|     34|                 C|       1|       1|          0|     null|                null|\n",
      "|     1|       35|     35|                 C|       2|       2|          0|     null|                null|\n",
      "|     1|       36|     37|                CT|       3|       3|          0|     null|                null|\n",
      "|     1|       38|     40|               AAC|       4|       4|          0|     null|                null|\n",
      "|     1|       41|     49|         CCTAACCCT|       5|       5|          0|     null|                null|\n",
      "|     1|       50|     67|AACCCTAACCCTAACCCT|       6|       6|          0|     null|                null|\n",
      "|     1|       68|     68|                 A|       7|       7|          0|     null|                null|\n",
      "|     1|       69|     69|                 A|       7|       6|          1|[67 -> 1]|[67 -> [0, 0, 1],...|\n",
      "|     1|       70|     74|             CCCTA|       7|       7|          0|     null|                null|\n",
      "|     1|       75|     75|                 A|       7|       6|          1|[67 -> 1]|[67 -> [0, 0, 1],...|\n",
      "+------+---------+-------+------------------+--------+--------+-----------+---------+--------------------+\n",
      "only showing top 10 rows\n",
      "\n"
     ]
    }
   ],
   "source": [
    "ss.sql(f\"SELECT * FROM  pileup('{table_name}', '{sample_id}', '{ref_path}', true)\").show(10)\n"
   ],
   "metadata": {
    "collapsed": false,
    "pycharm": {
     "name": "#%%\n"
    }
   }
  }
 ],
 "metadata": {
  "kernelspec": {
   "display_name": "Python 3",
   "language": "python",
   "name": "python3"
  },
  "language_info": {
   "codemirror_mode": {
    "name": "ipython",
    "version": 2
   },
   "file_extension": ".py",
   "mimetype": "text/x-python",
   "name": "python",
   "nbconvert_exporter": "python",
   "pygments_lexer": "ipython2",
   "version": "2.7.6"
  }
 },
 "nbformat": 4,
 "nbformat_minor": 0
}